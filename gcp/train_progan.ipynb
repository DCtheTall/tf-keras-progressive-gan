{
 "cells": [
  {
   "cell_type": "markdown",
   "id": "a0af3b42",
   "metadata": {},
   "source": [
    "# Train Progressive GAN on Cloud Machine Learning Engine\n",
    "\n",
    "Below is code for training the GAN on Cloud ML Engine (CMLE)."
   ]
  },
  {
   "cell_type": "code",
   "execution_count": 1,
   "id": "911558ae",
   "metadata": {},
   "outputs": [],
   "source": [
    "import os\n",
    "\n",
    "os.environ['PROJECT'] = 'machine-learning-models-283320'\n",
    "os.environ['BUCKET'] = 'celeba-progressive-gan'\n",
    "os.environ['REGION'] = 'us-east1'"
   ]
  },
  {
   "cell_type": "code",
   "execution_count": 2,
   "id": "3e933322",
   "metadata": {},
   "outputs": [
    {
     "name": "stdout",
     "output_type": "stream",
     "text": [
      "Python 3.7.10\n"
     ]
    }
   ],
   "source": [
    "!python --version"
   ]
  },
  {
   "cell_type": "code",
   "execution_count": 8,
   "id": "ac6a4e8c",
   "metadata": {},
   "outputs": [
    {
     "name": "stdout",
     "output_type": "stream",
     "text": [
      "jobId: progan_210425_210109\n",
      "state: QUEUED\n"
     ]
    },
    {
     "name": "stderr",
     "output_type": "stream",
     "text": [
      "Job [progan_210425_210109] submitted successfully.\n",
      "Your job is still active. You may view the status of your job with the command\n",
      "\n",
      "  $ gcloud ai-platform jobs describe progan_210425_210109\n",
      "\n",
      "or continue streaming the logs with the command\n",
      "\n",
      "  $ gcloud ai-platform jobs stream-logs progan_210425_210109\n"
     ]
    }
   ],
   "source": [
    "%%bash\n",
    "\n",
    "JOBID=progan_$(date -u +%y%m%d_%H%M%S)\n",
    "\n",
    "gcloud ai-platform jobs submit training ${JOBID} \\\n",
    "    --region=${REGION} \\\n",
    "    --module-name=trainer.task \\\n",
    "    --package-path=$(pwd)/progan/trainer \\\n",
    "    --job-dir=gs://${BUCKET}/ \\\n",
    "    --scale-tier=BASIC_GPU \\\n",
    "    --runtime-version=2.3 \\\n",
    "    --python-version=3.7 \\\n",
    "    -- \\\n",
    "    --data_bucket_name=${BUCKET} \\\n",
    "    --checkpoint_path=gs://${BUCKET}/models/ \\\n",
    "    --resolution=8 \\\n",
    "    --debug_mode=true"
   ]
  },
  {
   "cell_type": "code",
   "execution_count": null,
   "id": "69d3a2c0",
   "metadata": {},
   "outputs": [],
   "source": []
  }
 ],
 "metadata": {
  "environment": {
   "name": "tf2-gpu.2-4.m65",
   "type": "gcloud",
   "uri": "gcr.io/deeplearning-platform-release/tf2-gpu.2-4:m65"
  },
  "kernelspec": {
   "display_name": "Python 3",
   "language": "python",
   "name": "python3"
  },
  "language_info": {
   "codemirror_mode": {
    "name": "ipython",
    "version": 3
   },
   "file_extension": ".py",
   "mimetype": "text/x-python",
   "name": "python",
   "nbconvert_exporter": "python",
   "pygments_lexer": "ipython3",
   "version": "3.7.10"
  }
 },
 "nbformat": 4,
 "nbformat_minor": 5
}