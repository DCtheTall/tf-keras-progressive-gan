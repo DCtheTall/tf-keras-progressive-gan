{
 "cells": [
  {
   "cell_type": "markdown",
   "id": "enclosed-alfred",
   "metadata": {},
   "source": [
    "# Copying Celeb-A dataset to Google Cloud Storage\n",
    "\n",
    "This notebook downloads the Celeb-A dataset and writes it to a Google Cloud Storage bucket.\n",
    "\n",
    "First we download the Celeb-A data..."
   ]
  },
  {
   "cell_type": "code",
   "execution_count": 1,
   "id": "similar-harbor",
   "metadata": {},
   "outputs": [
    {
     "name": "stdout",
     "output_type": "stream",
     "text": [
      "--2021-04-06 00:02:50--  https://s3-us-west-1.amazonaws.com/udacity-dlnfd/datasets/celeba.zip\n",
      "Resolving s3-us-west-1.amazonaws.com (s3-us-west-1.amazonaws.com)... 52.219.117.72\n",
      "Connecting to s3-us-west-1.amazonaws.com (s3-us-west-1.amazonaws.com)|52.219.117.72|:443... connected.\n",
      "HTTP request sent, awaiting response... 200 OK\n",
      "Length: 1443490838 (1.3G) [application/zip]\n",
      "Saving to: ‘celeba.zip.1’\n",
      "\n",
      "celeba.zip.1        100%[===================>]   1.34G  76.7MB/s    in 18s     \n",
      "\n",
      "2021-04-06 00:03:08 (76.5 MB/s) - ‘celeba.zip.1’ saved [1443490838/1443490838]\n",
      "\n"
     ]
    }
   ],
   "source": [
    "!mkdir -p data && wget https://s3-us-west-1.amazonaws.com/udacity-dlnfd/datasets/celeba.zip"
   ]
  },
  {
   "cell_type": "markdown",
   "id": "crude-oliver",
   "metadata": {},
   "source": [
    "Then we extract it."
   ]
  },
  {
   "cell_type": "code",
   "execution_count": 2,
   "id": "nutritional-endorsement",
   "metadata": {},
   "outputs": [],
   "source": [
    "import zipfile\n",
    "\n",
    "with zipfile.ZipFile('celeba.zip', 'r') as z:\n",
    "  z.extractall('data/')"
   ]
  },
  {
   "cell_type": "markdown",
   "id": "powerful-sitting",
   "metadata": {},
   "source": [
    "Next, we want to copy the data from the local directory on the kernel to the GCS bucket.\n",
    "\n",
    "First we set up the environmental variables."
   ]
  },
  {
   "cell_type": "code",
   "execution_count": 3,
   "id": "reasonable-recipe",
   "metadata": {},
   "outputs": [],
   "source": [
    "import os\n",
    "\n",
    "os.environ['PROJECT'] = 'projct-id'\n",
    "os.environ['BUCKET'] = 'bucket-name'\n",
    "os.environ['REGION'] = 'us-east1'"
   ]
  },
  {
   "cell_type": "markdown",
   "id": "maritime-holiday",
   "metadata": {},
   "source": [
    "Now we want to copy the data over using `gsutil`. This command will take a while to run and will log a lot of output."
   ]
  },
  {
   "cell_type": "code",
   "execution_count": null,
   "id": "fatal-sleep",
   "metadata": {},
   "outputs": [],
   "source": [
    "!gsutil -m cp -r data/img_align_celeba/ gs://${BUCKET}/"
   ]
  }
 ],
 "metadata": {
  "environment": {
   "name": "tf2-gpu.2-4.m65",
   "type": "gcloud",
   "uri": "gcr.io/deeplearning-platform-release/tf2-gpu.2-4:m65"
  },
  "kernelspec": {
   "display_name": "Python [conda env:root] *",
   "language": "python",
   "name": "conda-root-py"
  },
  "language_info": {
   "codemirror_mode": {
    "name": "ipython",
    "version": 3
   },
   "file_extension": ".py",
   "mimetype": "text/x-python",
   "name": "python",
   "nbconvert_exporter": "python",
   "pygments_lexer": "ipython3",
   "version": "3.7.10"
  }
 },
 "nbformat": 4,
 "nbformat_minor": 5
}