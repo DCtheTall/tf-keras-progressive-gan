{
 "cells": [
  {
   "cell_type": "markdown",
   "id": "e023f3fe",
   "metadata": {},
   "source": [
    "# Copying Celeb-A dataset to Google Cloud Storage\n",
    "\n",
    "This notebook downloads the Celeb-A dataset and writes it to a Google Cloud Storage bucket.\n",
    "\n",
    "First we download the Celeb-A data..."
   ]
  },
  {
   "cell_type": "code",
   "execution_count": 1,
   "id": "10a08468",
   "metadata": {},
   "outputs": [
    {
     "name": "stdout",
     "output_type": "stream",
     "text": [
      "--2021-04-25 20:03:32--  https://s3-us-west-1.amazonaws.com/udacity-dlnfd/datasets/celeba.zip\n",
      "Resolving s3-us-west-1.amazonaws.com (s3-us-west-1.amazonaws.com)... 52.219.120.64\n",
      "Connecting to s3-us-west-1.amazonaws.com (s3-us-west-1.amazonaws.com)|52.219.120.64|:443... connected.\n",
      "HTTP request sent, awaiting response... 200 OK\n",
      "Length: 1443490838 (1.3G) [application/zip]\n",
      "Saving to: ‘celeba.zip’\n",
      "\n",
      "celeba.zip          100%[===================>]   1.34G  83.9MB/s    in 18s     \n",
      "\n",
      "2021-04-25 20:03:50 (77.8 MB/s) - ‘celeba.zip’ saved [1443490838/1443490838]\n",
      "\n"
     ]
    }
   ],
   "source": [
    "!mkdir -p data && wget https://s3-us-west-1.amazonaws.com/udacity-dlnfd/datasets/celeba.zip"
   ]
  },
  {
   "cell_type": "markdown",
   "id": "83bac2f7",
   "metadata": {},
   "source": [
    "Then we copy the zip file over to GCS..."
   ]
  },
  {
   "cell_type": "code",
   "execution_count": 4,
   "id": "c68cd571",
   "metadata": {},
   "outputs": [],
   "source": [
    "import os\n",
    "\n",
    "os.environ['PROJECT'] = 'machine-learning-models-283320'\n",
    "os.environ['BUCKET'] = 'celeba-progressive-gan'\n",
    "os.environ['REGION'] = 'us-east1'"
   ]
  },
  {
   "cell_type": "code",
   "execution_count": 5,
   "id": "1919c27f",
   "metadata": {},
   "outputs": [
    {
     "name": "stdout",
     "output_type": "stream",
     "text": [
      "Copying file://celeba.zip [Content-Type=application/zip]...\n",
      "==> NOTE: You are uploading one or more large file(s), which would run          \n",
      "significantly faster if you enable parallel composite uploads. This\n",
      "feature can be enabled by editing the\n",
      "\"parallel_composite_upload_threshold\" value in your .boto\n",
      "configuration file. However, note that if you do this large files will\n",
      "be uploaded as `composite objects\n",
      "<https://cloud.google.com/storage/docs/composite-objects>`_,which\n",
      "means that any user who downloads such objects will need to have a\n",
      "compiled crcmod installed (see \"gsutil help crcmod\"). This is because\n",
      "without a compiled crcmod, computing checksums on composite objects is\n",
      "so slow that gsutil disables downloads of composite objects.\n",
      "\n",
      "- [1/1 files][  1.3 GiB/  1.3 GiB] 100% Done  49.6 MiB/s ETA 00:00:00           \n",
      "Operation completed over 1 objects/1.3 GiB.                                      \n"
     ]
    }
   ],
   "source": [
    "!gsutil -m cp celeba.zip gs://${BUCKET}/"
   ]
  }
 ],
 "metadata": {
  "environment": {
   "name": "tf2-gpu.2-4.m65",
   "type": "gcloud",
   "uri": "gcr.io/deeplearning-platform-release/tf2-gpu.2-4:m65"
  },
  "kernelspec": {
   "display_name": "Python [conda env:root] *",
   "language": "python",
   "name": "conda-root-py"
  },
  "language_info": {
   "codemirror_mode": {
    "name": "ipython",
    "version": 3
   },
   "file_extension": ".py",
   "mimetype": "text/x-python",
   "name": "python",
   "nbconvert_exporter": "python",
   "pygments_lexer": "ipython3",
   "version": "3.7.10"
  }
 },
 "nbformat": 4,
 "nbformat_minor": 5
}
