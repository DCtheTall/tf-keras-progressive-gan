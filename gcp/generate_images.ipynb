{
 "cells": [
  {
   "cell_type": "markdown",
   "id": "878f7c49",
   "metadata": {},
   "source": [
    "# Generate new images using trained Progressive GAN models\n",
    "\n",
    "## Loading trained model into the notebook\n",
    "\n",
    "Below we copy the files from training on Cloud ML Engine onto the local filesystem of the kernel."
   ]
  },
  {
   "cell_type": "code",
   "execution_count": 28,
   "id": "1dad4c74",
   "metadata": {},
   "outputs": [],
   "source": [
    "import os\n",
    "\n",
    "os.environ['BUCKET'] = 'celeba-progressive-gan'\n",
    "os.environ['MODEL_DIR'] = 'models/20210426005031/gen'"
   ]
  },
  {
   "cell_type": "code",
   "execution_count": 35,
   "id": "462f8513",
   "metadata": {},
   "outputs": [
    {
     "name": "stderr",
     "output_type": "stream",
     "text": [
      "Copying gs://celeba-progressive-gan/models/20210426005031/gen/saved_model.pb...\n",
      "/ [1 files][487.7 KiB/487.7 KiB]                                                \n",
      "==> NOTE: You are performing a sequence of gsutil operations that may\n",
      "run significantly faster if you instead use gsutil -m cp ... Please\n",
      "see the -m section under \"gsutil help options\" for further information\n",
      "about when gsutil -m can be advantageous.\n",
      "\n",
      "Copying gs://celeba-progressive-gan/models/20210426005031/gen/variables/variables.data-00000-of-00001...\n",
      "Copying gs://celeba-progressive-gan/models/20210426005031/gen/variables/variables.index...\n",
      "\\ [3 files][ 43.5 MiB/ 43.5 MiB]                                                \n",
      "Operation completed over 3 objects/43.5 MiB.                                     \n"
     ]
    }
   ],
   "source": [
    "%%bash\n",
    "\n",
    "mkdir -p ./savedmodel/\n",
    "gsutil cp -r gs://${BUCKET}/${MODEL_DIR}/* ./savedmodel/"
   ]
  },
  {
   "cell_type": "markdown",
   "id": "e924ebe2",
   "metadata": {},
   "source": [
    "Next we load the generator model into the notebook so we can generate new images with the trained weights."
   ]
  },
  {
   "cell_type": "code",
   "execution_count": 41,
   "id": "decdf153",
   "metadata": {},
   "outputs": [],
   "source": [
    "import sys\n",
    "\n",
    "sys.path.append('./progan')"
   ]
  },
  {
   "cell_type": "code",
   "execution_count": 42,
   "id": "2eff8c73",
   "metadata": {},
   "outputs": [],
   "source": [
    "from trainer import model"
   ]
  },
  {
   "cell_type": "code",
   "execution_count": 43,
   "id": "1e64dd1d",
   "metadata": {},
   "outputs": [
    {
     "name": "stdout",
     "output_type": "stream",
     "text": [
      "WARNING:tensorflow:No training configuration found in save file, so the model was *not* compiled. Compile it manually.\n"
     ]
    }
   ],
   "source": [
    "import tensorflow as tf\n",
    "\n",
    "G = tf.keras.models.load_model('./savedmodel/', custom_objects={'G': model.G})"
   ]
  },
  {
   "cell_type": "code",
   "execution_count": null,
   "id": "3f2db11c",
   "metadata": {},
   "outputs": [],
   "source": [
    "# Use this cell to determine if the model was loaded correctly.\n",
    "\n",
    "G.summary()"
   ]
  },
  {
   "cell_type": "code",
   "execution_count": 37,
   "id": "fcb4906d",
   "metadata": {},
   "outputs": [],
   "source": [
    "import numpy as np\n",
    "import matplotlib.pyplot as plt\n",
    "\n",
    "def plot_generated_images(G,\n",
    "                          latent_size,\n",
    "                          n_to_show=20,\n",
    "                          n_rows=5,\n",
    "                          figsize=(8, 10),\n",
    "                          alpha=1.0):\n",
    "  \"\"\"Plot images made by a generator.\"\"\"\n",
    "  latents_in = np.random.normal(size=(n_to_show, latent_size))\n",
    "  X_gen = G.predict(latents_in)\n",
    "  \n",
    "  fig = plt.figure(figsize=(8, 10))\n",
    "\n",
    "  for i, x in enumerate(X_gen):\n",
    "    ax = fig.add_subplot(n_rows, n_to_show // n_rows, i + 1)\n",
    "    ax.axis('off')\n",
    "    ax.imshow(np.clip(np.array(x).squeeze(), 0.0, 1.0),\n",
    "              interpolation='antialiased')"
   ]
  },
  {
   "cell_type": "code",
   "execution_count": 39,
   "id": "c08afbb0",
   "metadata": {},
   "outputs": [
    {
     "data": {
      "image/png": "[encoded data removed]",
      "text/plain": [
       "<Figure size 576x720 with 20 Axes>"
      ]
     },
     "metadata": {
      "needs_background": "light"
     },
     "output_type": "display_data"
    }
   ],
   "source": [
    "plot_generated_images(G, latent_size=512)"
   ]
  },
  {
   "cell_type": "code",
   "execution_count": null,
   "id": "dc52ef0c",
   "metadata": {},
   "outputs": [],
   "source": []
  }
 ],
 "metadata": {
  "environment": {
   "name": "tf2-gpu.2-4.m65",
   "type": "gcloud",
   "uri": "gcr.io/deeplearning-platform-release/tf2-gpu.2-4:m65"
  },
  "kernelspec": {
   "display_name": "Python 3",
   "language": "python",
   "name": "python3"
  },
  "language_info": {
   "codemirror_mode": {
    "name": "ipython",
    "version": 3
   },
   "file_extension": ".py",
   "mimetype": "text/x-python",
   "name": "python",
   "nbconvert_exporter": "python",
   "pygments_lexer": "ipython3",
   "version": "3.7.10"
  }
 },
 "nbformat": 4,
 "nbformat_minor": 5
}
