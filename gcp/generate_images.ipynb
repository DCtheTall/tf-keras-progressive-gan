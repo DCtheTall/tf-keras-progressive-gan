{
 "cells": [
  {
   "cell_type": "markdown",
   "id": "1cd36dfa",
   "metadata": {},
   "source": [
    "# Generate new images using trained Progressive GAN models\n",
    "\n",
    "## Loading trained model into the notebook\n",
    "\n",
    "Below we copy the files from training on Cloud ML Engine onto the local filesystem of the kernel."
   ]
  },
  {
   "cell_type": "code",
   "execution_count": 1,
   "id": "2f30faeb",
   "metadata": {},
   "outputs": [],
   "source": [
    "import os\n",
    "\n",
    "os.environ['BUCKET'] = 'celeba-progressive-gan'\n",
    "os.environ['MODEL_DIR'] = 'models/20210426152851/gen'"
   ]
  },
  {
   "cell_type": "code",
   "execution_count": 2,
   "id": "a3491bb3",
   "metadata": {},
   "outputs": [
    {
     "name": "stderr",
     "output_type": "stream",
     "text": [
      "Copying gs://celeba-progressive-gan/models/20210426152851/gen/saved_model.pb...\n",
      "/ [1 files][747.1 KiB/747.1 KiB]                                                \n",
      "==> NOTE: You are performing a sequence of gsutil operations that may\n",
      "run significantly faster if you instead use gsutil -m cp ... Please\n",
      "see the -m section under \"gsutil help options\" for further information\n",
      "about when gsutil -m can be advantageous.\n",
      "\n",
      "Copying gs://celeba-progressive-gan/models/20210426152851/gen/variables/variables.data-00000-of-00001...\n",
      "Copying gs://celeba-progressive-gan/models/20210426152851/gen/variables/variables.index...\n",
      "/ [3 files][ 61.8 MiB/ 61.8 MiB]                                                \n",
      "Operation completed over 3 objects/61.8 MiB.                                     \n"
     ]
    }
   ],
   "source": [
    "%%bash\n",
    "\n",
    "mkdir -p ./savedmodel/\n",
    "gsutil cp -r gs://${BUCKET}/${MODEL_DIR}/* ./savedmodel/"
   ]
  },
  {
   "cell_type": "markdown",
   "id": "2f574e65",
   "metadata": {},
   "source": [
    "Next we load the generator model into the notebook so we can generate new images with the trained weights."
   ]
  },
  {
   "cell_type": "code",
   "execution_count": 3,
   "id": "d7539701",
   "metadata": {},
   "outputs": [],
   "source": [
    "import sys\n",
    "\n",
    "sys.path.append('./progan')"
   ]
  },
  {
   "cell_type": "code",
   "execution_count": 4,
   "id": "96aa2204",
   "metadata": {},
   "outputs": [],
   "source": [
    "from trainer import model"
   ]
  },
  {
   "cell_type": "code",
   "execution_count": 5,
   "id": "042d5e4d",
   "metadata": {},
   "outputs": [
    {
     "name": "stdout",
     "output_type": "stream",
     "text": [
      "WARNING:tensorflow:No training configuration found in save file, so the model was *not* compiled. Compile it manually.\n"
     ]
    }
   ],
   "source": [
    "import tensorflow as tf\n",
    "\n",
    "G = tf.keras.models.load_model('./savedmodel/', custom_objects={'G': model.G})"
   ]
  },
  {
   "cell_type": "code",
   "execution_count": 6,
   "id": "639f10f9",
   "metadata": {},
   "outputs": [
    {
     "name": "stdout",
     "output_type": "stream",
     "text": [
      "Model: \"functional_1\"\n",
      "__________________________________________________________________________________________________\n",
      "Layer (type)                    Output Shape         Param #     Connected to                     \n",
      "==================================================================================================\n",
      "latents_in (InputLayer)         [(None, 512)]        0                                            \n",
      "__________________________________________________________________________________________________\n",
      "G_dense_head (Dense)            (None, 8192)         4194304     latents_in[0][0]                 \n",
      "__________________________________________________________________________________________________\n",
      "lambda (Lambda)                 (None, 8192)         0           G_dense_head[0][0]               \n",
      "__________________________________________________________________________________________________\n",
      "tf_op_layer_Reshape (TensorFlow (None, 4, 4, 512)    0           lambda[0][0]                     \n",
      "__________________________________________________________________________________________________\n",
      "G_dense_head_bias (Bias)        (None, 4, 4, 512)    512         tf_op_layer_Reshape[0][0]        \n",
      "__________________________________________________________________________________________________\n",
      "leaky_re_lu (LeakyReLU)         (None, 4, 4, 512)    0           G_dense_head_bias[0][0]          \n",
      "                                                                 4x4_conv_bias[0][0]              \n",
      "__________________________________________________________________________________________________\n",
      "tf_op_layer_Square_1 (TensorFlo (None, 4, 4, 512)    0           leaky_re_lu[0][0]                \n",
      "__________________________________________________________________________________________________\n",
      "tf_op_layer_Mean_1 (TensorFlowO (None, 4, 4, 1)      0           tf_op_layer_Square_1[0][0]       \n",
      "__________________________________________________________________________________________________\n",
      "tf_op_layer_AddV2_1 (TensorFlow (None, 4, 4, 1)      0           tf_op_layer_Mean_1[0][0]         \n",
      "__________________________________________________________________________________________________\n",
      "tf_op_layer_Minimum_1 (TensorFl (None, 4, 4, 1)      0           tf_op_layer_AddV2_1[0][0]        \n",
      "__________________________________________________________________________________________________\n",
      "tf_op_layer_Maximum_1 (TensorFl (None, 4, 4, 1)      0           tf_op_layer_Minimum_1[0][0]      \n",
      "__________________________________________________________________________________________________\n",
      "tf_op_layer_Sqrt_1 (TensorFlowO (None, 4, 4, 1)      0           tf_op_layer_Maximum_1[0][0]      \n",
      "__________________________________________________________________________________________________\n",
      "tf_op_layer_RealDiv_1 (TensorFl (None, 4, 4, 512)    0           leaky_re_lu[0][0]                \n",
      "                                                                 tf_op_layer_Sqrt_1[0][0]         \n",
      "__________________________________________________________________________________________________\n",
      "4x4_conv (Conv2D)               (None, 4, 4, 512)    2359296     tf_op_layer_RealDiv_1[0][0]      \n",
      "__________________________________________________________________________________________________\n",
      "lambda_1 (Lambda)               (None, 4, 4, 512)    0           4x4_conv[0][0]                   \n",
      "__________________________________________________________________________________________________\n",
      "4x4_conv_bias (Bias)            (None, 4, 4, 512)    512         lambda_1[0][0]                   \n",
      "__________________________________________________________________________________________________\n",
      "tf_op_layer_Square_2 (TensorFlo (None, 4, 4, 512)    0           leaky_re_lu[1][0]                \n",
      "__________________________________________________________________________________________________\n",
      "tf_op_layer_Mean_2 (TensorFlowO (None, 4, 4, 1)      0           tf_op_layer_Square_2[0][0]       \n",
      "__________________________________________________________________________________________________\n",
      "tf_op_layer_AddV2_2 (TensorFlow (None, 4, 4, 1)      0           tf_op_layer_Mean_2[0][0]         \n",
      "__________________________________________________________________________________________________\n",
      "tf_op_layer_Minimum_2 (TensorFl (None, 4, 4, 1)      0           tf_op_layer_AddV2_2[0][0]        \n",
      "__________________________________________________________________________________________________\n",
      "tf_op_layer_Maximum_2 (TensorFl (None, 4, 4, 1)      0           tf_op_layer_Minimum_2[0][0]      \n",
      "__________________________________________________________________________________________________\n",
      "tf_op_layer_Sqrt_2 (TensorFlowO (None, 4, 4, 1)      0           tf_op_layer_Maximum_2[0][0]      \n",
      "__________________________________________________________________________________________________\n",
      "tf_op_layer_RealDiv_2 (TensorFl (None, 4, 4, 512)    0           leaky_re_lu[1][0]                \n",
      "                                                                 tf_op_layer_Sqrt_2[0][0]         \n",
      "__________________________________________________________________________________________________\n",
      "up_sampling2d (UpSampling2D)    (None, 8, 8, 512)    0           tf_op_layer_RealDiv_2[0][0]      \n",
      "__________________________________________________________________________________________________\n",
      "8x8_conv0 (Conv2D)              (None, 8, 8, 512)    2359296     up_sampling2d[0][0]              \n",
      "__________________________________________________________________________________________________\n",
      "lambda_3 (Lambda)               (None, 8, 8, 512)    0           8x8_conv0[0][0]                  \n",
      "__________________________________________________________________________________________________\n",
      "8x8_conv0_bias (Bias)           (None, 8, 8, 512)    512         lambda_3[0][0]                   \n",
      "__________________________________________________________________________________________________\n",
      "leaky_re_lu_1 (LeakyReLU)       (None, 8, 8, 512)    0           8x8_conv0_bias[0][0]             \n",
      "                                                                 8x8_conv1_bias[0][0]             \n",
      "__________________________________________________________________________________________________\n",
      "tf_op_layer_Square_3 (TensorFlo (None, 8, 8, 512)    0           leaky_re_lu_1[0][0]              \n",
      "__________________________________________________________________________________________________\n",
      "tf_op_layer_Mean_3 (TensorFlowO (None, 8, 8, 1)      0           tf_op_layer_Square_3[0][0]       \n",
      "__________________________________________________________________________________________________\n",
      "tf_op_layer_AddV2_3 (TensorFlow (None, 8, 8, 1)      0           tf_op_layer_Mean_3[0][0]         \n",
      "__________________________________________________________________________________________________\n",
      "tf_op_layer_Minimum_3 (TensorFl (None, 8, 8, 1)      0           tf_op_layer_AddV2_3[0][0]        \n",
      "__________________________________________________________________________________________________\n",
      "tf_op_layer_Maximum_3 (TensorFl (None, 8, 8, 1)      0           tf_op_layer_Minimum_3[0][0]      \n",
      "__________________________________________________________________________________________________\n",
      "tf_op_layer_Sqrt_3 (TensorFlowO (None, 8, 8, 1)      0           tf_op_layer_Maximum_3[0][0]      \n",
      "__________________________________________________________________________________________________\n",
      "tf_op_layer_RealDiv_3 (TensorFl (None, 8, 8, 512)    0           leaky_re_lu_1[0][0]              \n",
      "                                                                 tf_op_layer_Sqrt_3[0][0]         \n",
      "__________________________________________________________________________________________________\n",
      "8x8_conv1 (Conv2D)              (None, 8, 8, 512)    2359296     tf_op_layer_RealDiv_3[0][0]      \n",
      "__________________________________________________________________________________________________\n",
      "lambda_4 (Lambda)               (None, 8, 8, 512)    0           8x8_conv1[0][0]                  \n",
      "__________________________________________________________________________________________________\n",
      "8x8_conv1_bias (Bias)           (None, 8, 8, 512)    512         lambda_4[0][0]                   \n",
      "__________________________________________________________________________________________________\n",
      "tf_op_layer_Square_4 (TensorFlo (None, 8, 8, 512)    0           leaky_re_lu_1[1][0]              \n",
      "__________________________________________________________________________________________________\n",
      "tf_op_layer_Mean_4 (TensorFlowO (None, 8, 8, 1)      0           tf_op_layer_Square_4[0][0]       \n",
      "__________________________________________________________________________________________________\n",
      "tf_op_layer_AddV2_4 (TensorFlow (None, 8, 8, 1)      0           tf_op_layer_Mean_4[0][0]         \n",
      "__________________________________________________________________________________________________\n",
      "tf_op_layer_Minimum_4 (TensorFl (None, 8, 8, 1)      0           tf_op_layer_AddV2_4[0][0]        \n",
      "__________________________________________________________________________________________________\n",
      "tf_op_layer_Maximum_4 (TensorFl (None, 8, 8, 1)      0           tf_op_layer_Minimum_4[0][0]      \n",
      "__________________________________________________________________________________________________\n",
      "tf_op_layer_Sqrt_4 (TensorFlowO (None, 8, 8, 1)      0           tf_op_layer_Maximum_4[0][0]      \n",
      "__________________________________________________________________________________________________\n",
      "tf_op_layer_RealDiv_4 (TensorFl (None, 8, 8, 512)    0           leaky_re_lu_1[1][0]              \n",
      "                                                                 tf_op_layer_Sqrt_4[0][0]         \n",
      "__________________________________________________________________________________________________\n",
      "up_sampling2d_2 (UpSampling2D)  (None, 16, 16, 512)  0           tf_op_layer_RealDiv_4[0][0]      \n",
      "__________________________________________________________________________________________________\n",
      "16x16_conv0 (Conv2D)            (None, 16, 16, 512)  2359296     up_sampling2d_2[0][0]            \n",
      "__________________________________________________________________________________________________\n",
      "lambda_6 (Lambda)               (None, 16, 16, 512)  0           16x16_conv0[0][0]                \n",
      "__________________________________________________________________________________________________\n",
      "16x16_conv0_bias (Bias)         (None, 16, 16, 512)  512         lambda_6[0][0]                   \n",
      "__________________________________________________________________________________________________\n",
      "leaky_re_lu_2 (LeakyReLU)       (None, 16, 16, 512)  0           16x16_conv0_bias[0][0]           \n",
      "                                                                 16x16_conv1_bias[0][0]           \n",
      "__________________________________________________________________________________________________\n",
      "tf_op_layer_Square_5 (TensorFlo (None, 16, 16, 512)  0           leaky_re_lu_2[0][0]              \n",
      "__________________________________________________________________________________________________\n",
      "tf_op_layer_Mean_5 (TensorFlowO (None, 16, 16, 1)    0           tf_op_layer_Square_5[0][0]       \n",
      "__________________________________________________________________________________________________\n",
      "tf_op_layer_AddV2_5 (TensorFlow (None, 16, 16, 1)    0           tf_op_layer_Mean_5[0][0]         \n",
      "__________________________________________________________________________________________________\n",
      "tf_op_layer_Minimum_5 (TensorFl (None, 16, 16, 1)    0           tf_op_layer_AddV2_5[0][0]        \n",
      "__________________________________________________________________________________________________\n",
      "tf_op_layer_Maximum_5 (TensorFl (None, 16, 16, 1)    0           tf_op_layer_Minimum_5[0][0]      \n",
      "__________________________________________________________________________________________________\n",
      "tf_op_layer_Sqrt_5 (TensorFlowO (None, 16, 16, 1)    0           tf_op_layer_Maximum_5[0][0]      \n",
      "__________________________________________________________________________________________________\n",
      "tf_op_layer_RealDiv_5 (TensorFl (None, 16, 16, 512)  0           leaky_re_lu_2[0][0]              \n",
      "                                                                 tf_op_layer_Sqrt_5[0][0]         \n",
      "__________________________________________________________________________________________________\n",
      "16x16_conv1 (Conv2D)            (None, 16, 16, 512)  2359296     tf_op_layer_RealDiv_5[0][0]      \n",
      "__________________________________________________________________________________________________\n",
      "lambda_7 (Lambda)               (None, 16, 16, 512)  0           16x16_conv1[0][0]                \n",
      "__________________________________________________________________________________________________\n",
      "16x16_conv1_bias (Bias)         (None, 16, 16, 512)  512         lambda_7[0][0]                   \n",
      "__________________________________________________________________________________________________\n",
      "tf_op_layer_Square_6 (TensorFlo (None, 16, 16, 512)  0           leaky_re_lu_2[1][0]              \n",
      "__________________________________________________________________________________________________\n",
      "tf_op_layer_Mean_6 (TensorFlowO (None, 16, 16, 1)    0           tf_op_layer_Square_6[0][0]       \n",
      "__________________________________________________________________________________________________\n",
      "tf_op_layer_AddV2_6 (TensorFlow (None, 16, 16, 1)    0           tf_op_layer_Mean_6[0][0]         \n",
      "__________________________________________________________________________________________________\n",
      "tf_op_layer_Minimum_6 (TensorFl (None, 16, 16, 1)    0           tf_op_layer_AddV2_6[0][0]        \n",
      "__________________________________________________________________________________________________\n",
      "tf_op_layer_Maximum_6 (TensorFl (None, 16, 16, 1)    0           tf_op_layer_Minimum_6[0][0]      \n",
      "__________________________________________________________________________________________________\n",
      "4x4_to_rgb (Conv2D)             (None, 4, 4, 3)      1536        tf_op_layer_RealDiv_2[0][0]      \n",
      "__________________________________________________________________________________________________\n",
      "tf_op_layer_Sqrt_6 (TensorFlowO (None, 16, 16, 1)    0           tf_op_layer_Maximum_6[0][0]      \n",
      "__________________________________________________________________________________________________\n",
      "8x8_to_rgb (Conv2D)             (None, 8, 8, 3)      1536        tf_op_layer_RealDiv_4[0][0]      \n",
      "__________________________________________________________________________________________________\n",
      "lambda_2 (Lambda)               (None, 4, 4, 3)      0           4x4_to_rgb[0][0]                 \n",
      "__________________________________________________________________________________________________\n",
      "tf_op_layer_RealDiv_6 (TensorFl (None, 16, 16, 512)  0           leaky_re_lu_2[1][0]              \n",
      "                                                                 tf_op_layer_Sqrt_6[0][0]         \n",
      "__________________________________________________________________________________________________\n",
      "lambda_5 (Lambda)               (None, 8, 8, 3)      0           8x8_to_rgb[0][0]                 \n",
      "__________________________________________________________________________________________________\n",
      "4x4_to_rgb_bias (Bias)          (None, 4, 4, 3)      3           lambda_2[0][0]                   \n",
      "__________________________________________________________________________________________________\n",
      "16x16_to_rgb (Conv2D)           (None, 16, 16, 3)    1536        tf_op_layer_RealDiv_6[0][0]      \n",
      "__________________________________________________________________________________________________\n",
      "8x8_to_rgb_bias (Bias)          (None, 8, 8, 3)      3           lambda_5[0][0]                   \n",
      "__________________________________________________________________________________________________\n",
      "activation (Activation)         (None, 4, 4, 3)      0           4x4_to_rgb_bias[0][0]            \n",
      "__________________________________________________________________________________________________\n",
      "lambda_8 (Lambda)               (None, 16, 16, 3)    0           16x16_to_rgb[0][0]               \n",
      "__________________________________________________________________________________________________\n",
      "activation_1 (Activation)       (None, 8, 8, 3)      0           8x8_to_rgb_bias[0][0]            \n",
      "__________________________________________________________________________________________________\n",
      "up_sampling2d_1 (UpSampling2D)  (None, 8, 8, 3)      0           activation[0][0]                 \n",
      "__________________________________________________________________________________________________\n",
      "16x16_to_rgb_bias (Bias)        (None, 16, 16, 3)    3           lambda_8[0][0]                   \n",
      "__________________________________________________________________________________________________\n",
      "lerp (Lerp)                     (None, 8, 8, 3)      0           activation_1[0][0]               \n",
      "                                                                 up_sampling2d_1[0][0]            \n",
      "__________________________________________________________________________________________________\n",
      "activation_2 (Activation)       (None, 16, 16, 3)    0           16x16_to_rgb_bias[0][0]          \n",
      "__________________________________________________________________________________________________\n",
      "up_sampling2d_3 (UpSampling2D)  (None, 16, 16, 3)    0           lerp[0][0]                       \n",
      "__________________________________________________________________________________________________\n",
      "lerp_1 (Lerp)                   (None, 16, 16, 3)    0           activation_2[0][0]               \n",
      "                                                                 up_sampling2d_3[0][0]            \n",
      "==================================================================================================\n",
      "Total params: 15,998,473\n",
      "Trainable params: 15,998,473\n",
      "Non-trainable params: 0\n",
      "__________________________________________________________________________________________________\n"
     ]
    }
   ],
   "source": [
    "# Use this cell to determine if the model was loaded correctly.\n",
    "\n",
    "G.summary()"
   ]
  },
  {
   "cell_type": "code",
   "execution_count": 7,
   "id": "c9c01235",
   "metadata": {},
   "outputs": [],
   "source": [
    "import numpy as np\n",
    "import matplotlib.pyplot as plt\n",
    "\n",
    "def plot_generated_images(G,\n",
    "                          latent_size,\n",
    "                          n_to_show=20,\n",
    "                          n_rows=5,\n",
    "                          figsize=(8, 10),\n",
    "                          alpha=1.0):\n",
    "  \"\"\"Plot images made by a generator.\"\"\"\n",
    "  latents_in = np.random.normal(size=(n_to_show, latent_size))\n",
    "  X_gen = G.predict(latents_in)\n",
    "  \n",
    "  fig = plt.figure(figsize=(8, 10))\n",
    "\n",
    "  for i, x in enumerate(X_gen):\n",
    "    ax = fig.add_subplot(n_rows, n_to_show // n_rows, i + 1)\n",
    "    ax.axis('off')\n",
    "    ax.imshow(np.clip(np.array(x).squeeze(), 0.0, 1.0),\n",
    "              interpolation='antialiased')"
   ]
  },
  {
   "cell_type": "code",
   "execution_count": 11,
   "id": "3979bcaa",
   "metadata": {},
   "outputs": [
    {
     "data": {
      "image/png": "[encoded data removed]",
      "text/plain": [
       "<Figure size 576x720 with 20 Axes>"
      ]
     },
     "metadata": {
      "needs_background": "light"
     },
     "output_type": "display_data"
    }
   ],
   "source": [
    "plot_generated_images(G, latent_size=512)"
   ]
  },
  {
   "cell_type": "code",
   "execution_count": null,
   "id": "faa4cc6a",
   "metadata": {},
   "outputs": [],
   "source": []
  }
 ],
 "metadata": {
  "environment": {
   "name": "tf2-gpu.2-4.m65",
   "type": "gcloud",
   "uri": "gcr.io/deeplearning-platform-release/tf2-gpu.2-4:m65"
  },
  "kernelspec": {
   "display_name": "Python 3",
   "language": "python",
   "name": "python3"
  },
  "language_info": {
   "codemirror_mode": {
    "name": "ipython",
    "version": 3
   },
   "file_extension": ".py",
   "mimetype": "text/x-python",
   "name": "python",
   "nbconvert_exporter": "python",
   "pygments_lexer": "ipython3",
   "version": "3.7.10"
  }
 },
 "nbformat": 4,
 "nbformat_minor": 5
}
